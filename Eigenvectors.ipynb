{
  "nbformat": 4,
  "nbformat_minor": 0,
  "metadata": {
    "colab": {
      "provenance": [],
      "authorship_tag": "ABX9TyOLEYJ3o6aNJioMCZ/82fBo",
      "include_colab_link": true
    },
    "kernelspec": {
      "name": "python3",
      "display_name": "Python 3"
    },
    "language_info": {
      "name": "python"
    }
  },
  "cells": [
    {
      "cell_type": "markdown",
      "metadata": {
        "id": "view-in-github",
        "colab_type": "text"
      },
      "source": [
        "<a href=\"https://colab.research.google.com/github/DawidK4/MyNotebooks/blob/main/Eigenvectors.ipynb\" target=\"_parent\"><img src=\"https://colab.research.google.com/assets/colab-badge.svg\" alt=\"Open In Colab\"/></a>"
      ]
    },
    {
      "cell_type": "markdown",
      "source": [
        "Zad 1"
      ],
      "metadata": {
        "id": "d1QyAyej7tH6"
      }
    },
    {
      "cell_type": "code",
      "execution_count": null,
      "metadata": {
        "colab": {
          "base_uri": "https://localhost:8080/"
        },
        "id": "RNA599wAF3eP",
        "outputId": "23857c5f-5de1-43f7-d701-d5097f42f876"
      },
      "outputs": [
        {
          "output_type": "stream",
          "name": "stdout",
          "text": [
            "Wektor jednostkowy: [0.26726124 0.53452248 0.80178373]\n",
            "Długość wektora jednostkowego: 1.0\n"
          ]
        }
      ],
      "source": [
        "import numpy as np\n",
        "\n",
        "v = np.array([1, 2, 3])\n",
        "norm_v = np.linalg.norm(v)\n",
        "\n",
        "u = v / norm_v\n",
        "\n",
        "print(\"Wektor jednostkowy:\", u)\n",
        "print(\"Długość wektora jednostkowego:\", np.linalg.norm(u))"
      ]
    },
    {
      "cell_type": "markdown",
      "source": [
        "Zad 2"
      ],
      "metadata": {
        "id": "UJTPCEF88a9g"
      }
    },
    {
      "cell_type": "code",
      "source": [
        "M = np.array([[3, 2], [2, 6]])\n",
        "\n",
        "eigenvalues, eigenvectors = np.linalg.eig(M)\n",
        "\n",
        "eigenvectors_unit = eigenvectors / np.linalg.norm(eigenvectors, axis=0)\n",
        "\n",
        "print(\"Wartości własne:\", eigenvalues)\n",
        "print(\"Jednostkowe wektory własne:\\n\", eigenvectors_unit)"
      ],
      "metadata": {
        "colab": {
          "base_uri": "https://localhost:8080/"
        },
        "id": "js8UCRmB8cEx",
        "outputId": "71d29556-a148-413a-cc80-2550f32fb134"
      },
      "execution_count": null,
      "outputs": [
        {
          "output_type": "stream",
          "name": "stdout",
          "text": [
            "Wartości własne: [2. 7.]\n",
            "Jednostkowe wektory własne:\n",
            " [[-0.89442719 -0.4472136 ]\n",
            " [ 0.4472136  -0.89442719]]\n"
          ]
        }
      ]
    },
    {
      "cell_type": "markdown",
      "source": [
        "Zad 3"
      ],
      "metadata": {
        "id": "gf2C9aQI84jp"
      }
    },
    {
      "cell_type": "code",
      "source": [
        "x0 = np.array([1, 1], dtype=float)\n",
        "\n",
        "x = x0 / np.linalg.norm(x0)\n",
        "\n",
        "# 1st iteration\n",
        "x_next = np.dot(M, x)\n",
        "x_next = x_next / np.linalg.norm(x_next)\n",
        "\n",
        "# 2nd\n",
        "x_next2 = np.dot(M, x_next)\n",
        "x_next2 = x_next2 / np.linalg.norm(x_next2)\n",
        "\n",
        "lambda_approx = np.dot(x_next2, np.dot(M, x_next2))\n",
        "\n",
        "lambda_true = max(eigenvalues)\n",
        "error = abs(lambda_true - lambda_aprox)\n",
        "\n",
        "print(\"Wektor własny po 2 iteracjach:\", x_next2)\n",
        "print(\"Przybliżona wartość własna:\", lambda_approx)\n",
        "print(\"Błąd:\", error)"
      ],
      "metadata": {
        "id": "flPGAbty85zy",
        "colab": {
          "base_uri": "https://localhost:8080/"
        },
        "outputId": "15478ca3-c3b4-4c2e-e3bc-4ebd878d4cdb"
      },
      "execution_count": null,
      "outputs": [
        {
          "output_type": "stream",
          "name": "stdout",
          "text": [
            "Wektor własny po 2 iteracjach: [0.47137727 0.88193167]\n",
            "Przybliżona wartość własna: 6.996300578034681\n",
            "Błąd: 0.0036994219653188054\n"
          ]
        }
      ]
    },
    {
      "cell_type": "markdown",
      "source": [
        "Zad 4"
      ],
      "metadata": {
        "id": "OmNRF2XnGcQe"
      }
    },
    {
      "cell_type": "code",
      "source": [
        "from sympy import symbols, det, Matrix\n",
        "\n",
        "a, b, c, d, e, f, l = symbols('a b c d e f lambda')\n",
        "\n",
        "A = Matrix([\n",
        "    [a - l, b, c],\n",
        "    [b, d - l, e],\n",
        "    [c, e, f - l]\n",
        "])\n",
        "\n",
        "determinant = A.det()\n",
        "print(\"Wyznacznik:\\n\", determinant)"
      ],
      "metadata": {
        "colab": {
          "base_uri": "https://localhost:8080/"
        },
        "id": "FKbY3WPjGd-o",
        "outputId": "4bfb0cdf-31a9-4d5b-d071-64865964a097"
      },
      "execution_count": null,
      "outputs": [
        {
          "output_type": "stream",
          "name": "stdout",
          "text": [
            "Wyznacznik:\n",
            " a*d*f - a*d*lambda - a*e**2 - a*f*lambda + a*lambda**2 - b**2*f + b**2*lambda + 2*b*c*e - c**2*d + c**2*lambda - d*f*lambda + d*lambda**2 + e**2*lambda + f*lambda**2 - lambda**3\n"
          ]
        }
      ]
    },
    {
      "cell_type": "markdown",
      "source": [
        "Zad 5"
      ],
      "metadata": {
        "id": "1w2otyRQHNSX"
      }
    },
    {
      "source": [
        "import numpy as np\n",
        "\n",
        "# a) Wymiary MTM i MMT\n",
        "M = np.array([[1, 1], [2, 4], [3, 9], [4, 16]])\n",
        "MTM = np.dot(M.T, M)\n",
        "MMT = np.dot(M, M.T)\n",
        "\n",
        "print(\"Wymiary MTM:\", MTM.shape)\n",
        "print(\"Wymiary MMT:\", MMT.shape)\n",
        "\n",
        "# b) Elementy MTM i MMT\n",
        "print(\"\\nMTM:\\n\", MTM)\n",
        "print(\"\\nMMT:\\n\", MMT)\n",
        "\n",
        "# Obserwacja:\n",
        "# Macierze MTM i MMT mają różne wymiary i wartości.\n",
        "# Kolejność mnożenia macierzy ma znaczenie.\n",
        "\n",
        "# c) Wektor własny i wartość własna dla MMT\n",
        "eigenvalues_MMT, eigenvectors_MMT = np.linalg.eig(MMT)\n",
        "\n",
        "# Wybieramy dominującą wartość własną i wektor własny\n",
        "dominant_eigenvalue_MMT = np.max(eigenvalues_MMT)\n",
        "dominant_eigenvector_MMT = eigenvectors_MMT[:, np.argmax(eigenvalues_MMT)]\n",
        "\n",
        "print(\"\\nDominująca wartość własna MMT:\", dominant_eigenvalue_MMT)\n",
        "print(\"\\nDominujący wektor własny MMT:\", dominant_eigenvector_MMT)"
      ],
      "cell_type": "code",
      "metadata": {
        "colab": {
          "base_uri": "https://localhost:8080/"
        },
        "id": "2rmCOhw0Jk85",
        "outputId": "5af04c55-a289-446c-cc53-7852572cb0df"
      },
      "execution_count": null,
      "outputs": [
        {
          "output_type": "stream",
          "name": "stdout",
          "text": [
            "Wymiary MTM: (2, 2)\n",
            "Wymiary MMT: (4, 4)\n",
            "\n",
            "MTM:\n",
            " [[ 30 100]\n",
            " [100 354]]\n",
            "\n",
            "MMT:\n",
            " [[  2   6  12  20]\n",
            " [  6  20  42  72]\n",
            " [ 12  42  90 156]\n",
            " [ 20  72 156 272]]\n",
            "\n",
            "Dominująca wartość własna MMT: 382.37857022259624\n",
            "\n",
            "Dominujący wektor własny MMT: [-0.06315773 -0.22470839 -0.484652   -0.84298854]\n"
          ]
        }
      ]
    },
    {
      "cell_type": "markdown",
      "source": [
        "Zad 6\n",
        "a) Dowód:\n",
        "\n",
        "Jeżeli v jest wektorem własnym MMT, to MMTv = λv. Mnożąc obie strony przez MT, otrzymujemy: MTMMTv = MTλv, co można zapisać jako (MTM)(MTv) = λ(MTv). To pokazuje, że MTv jest wektorem własnym MTM z tą samą wartością własną λ. Analogicznie można udowodnić, że jeżeli u jest wektorem własnym MTM, to Mu jest wektorem własnym MMT.\n",
        "\n",
        "b) Wektor własny dla MTM:"
      ],
      "metadata": {
        "id": "eTH3A9TpJrFC"
      }
    },
    {
      "source": [
        "dominant_eigenvector_MTM = np.dot(M.T, dominant_eigenvector_MMT)\n",
        "\n",
        "print(\"\\nDominujący wektor własny MTM:\", dominant_eigenvector_MTM)"
      ],
      "cell_type": "code",
      "metadata": {
        "colab": {
          "base_uri": "https://localhost:8080/"
        },
        "id": "Br5ka_aoJwFs",
        "outputId": "bd16a8cc-b29b-496f-d06c-fd6e0d6a3829"
      },
      "execution_count": null,
      "outputs": [
        {
          "output_type": "stream",
          "name": "stdout",
          "text": [
            "\n",
            "Dominujący wektor własny MTM: [ -5.33848467 -18.81167594]\n"
          ]
        }
      ]
    },
    {
      "cell_type": "markdown",
      "source": [
        "Zad 7\n",
        "Dowód:\n",
        "\n",
        "(MMT)T = (MT)TMT = MMT\n",
        "\n",
        "(MTM)T = MT(MT)T = MTM\n",
        "\n",
        "Transpozycja macierzy MMT i MTM jest równa samej macierzy, co oznacza, że są one symetryczne."
      ],
      "metadata": {
        "id": "UCvKNLaaJyyE"
      }
    },
    {
      "cell_type": "markdown",
      "source": [
        "Zad 8"
      ],
      "metadata": {
        "id": "nGzU5KnAJ3nM"
      }
    },
    {
      "source": [
        "A = np.array([[1, 1, 1], [1, 2, 3], [1, 3, 5]])\n",
        "\n",
        "# a) Wektory i wartości własne\n",
        "eigenvalues, eigenvectors = np.linalg.eig(A)\n",
        "\n",
        "print(\"\\nWartości własne:\", eigenvalues)\n",
        "print(\"\\nWektory własne:\\n\", eigenvectors)\n",
        "\n",
        "# b) Uporządkowanie wektorów\n",
        "sorted_indices = np.argsort(eigenvalues)[::-1]  # Indeksy posortowane malejąco\n",
        "sorted_eigenvalues = eigenvalues[sorted_indices]\n",
        "sorted_eigenvectors = eigenvectors[:, sorted_indices]\n",
        "\n",
        "print(\"\\nPosortowane wartości własne:\", sorted_eigenvalues)\n",
        "print(\"\\nPosortowane wektory własne:\\n\", sorted_eigenvectors)\n",
        "\n",
        "# c) Procent wariancji\n",
        "total_variance = np.sum(sorted_eigenvalues)\n",
        "variance_v1 = sorted_eigenvalues[0] / total_variance * 100\n",
        "variance_v1_v2 = (sorted_eigenvalues[0] + sorted_eigenvalues[1]) / total_variance * 100\n",
        "\n",
        "print(\"\\nProcent wariancji pokryty przez v1:\", variance_v1)\n",
        "print(\"\\nProcent wariancji pokryty przez v1 i v2:\", variance_v1_v2)"
      ],
      "cell_type": "code",
      "metadata": {
        "colab": {
          "base_uri": "https://localhost:8080/"
        },
        "id": "-x3L80DwJ5Fh",
        "outputId": "baa5d24f-8af2-40df-a388-5b3a5ed94b50"
      },
      "execution_count": null,
      "outputs": [
        {
          "output_type": "stream",
          "name": "stdout",
          "text": [
            "\n",
            "Wartości własne: [ 7.16227766e+00  8.37722340e-01 -2.95796566e-16]\n",
            "\n",
            "Wektory własne:\n",
            " [[-0.21848175 -0.88634026  0.40824829]\n",
            " [-0.52160897 -0.24750235 -0.81649658]\n",
            " [-0.8247362   0.39133557  0.40824829]]\n",
            "\n",
            "Posortowane wartości własne: [ 7.16227766e+00  8.37722340e-01 -2.95796566e-16]\n",
            "\n",
            "Posortowane wektory własne:\n",
            " [[-0.21848175 -0.88634026  0.40824829]\n",
            " [-0.52160897 -0.24750235 -0.81649658]\n",
            " [-0.8247362   0.39133557  0.40824829]]\n",
            "\n",
            "Procent wariancji pokryty przez v1: 89.52847075210475\n",
            "\n",
            "Procent wariancji pokryty przez v1 i v2: 100.0\n"
          ]
        }
      ]
    }
  ]
}