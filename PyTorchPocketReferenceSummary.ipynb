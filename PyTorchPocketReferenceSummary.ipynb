{
  "nbformat": 4,
  "nbformat_minor": 0,
  "metadata": {
    "colab": {
      "provenance": [],
      "authorship_tag": "ABX9TyM0yFm+ViNFmF9Y7ReihWx0",
      "include_colab_link": true
    },
    "kernelspec": {
      "name": "python3",
      "display_name": "Python 3"
    },
    "language_info": {
      "name": "python"
    }
  },
  "cells": [
    {
      "cell_type": "markdown",
      "metadata": {
        "id": "view-in-github",
        "colab_type": "text"
      },
      "source": [
        "<a href=\"https://colab.research.google.com/github/DawidK4/MyNotebooks/blob/main/PyTorchPocketReferenceSummary.ipynb\" target=\"_parent\"><img src=\"https://colab.research.google.com/assets/colab-badge.svg\" alt=\"Open In Colab\"/></a>"
      ]
    },
    {
      "cell_type": "code",
      "source": [
        "import torch\n",
        "import torchvision\n",
        "import numpy as np"
      ],
      "metadata": {
        "id": "VVojTMvK_A2i"
      },
      "execution_count": 24,
      "outputs": []
    },
    {
      "cell_type": "markdown",
      "source": [
        "# Tensors"
      ],
      "metadata": {
        "id": "yuycA0UX-Z0t"
      }
    },
    {
      "cell_type": "code",
      "source": [
        "device = \"cuda\" if torch.cuda.is_available() else \"cpu\"\n",
        "\n",
        "x = torch.tensor([[1,2,3],[4,5,6]],\n",
        "                 device=device)\n",
        "y = torch.tensor([[7,8,9],[10,11,12]],\n",
        "                 device=device)\n",
        "z = x + y\n",
        "print(z)\n",
        "\n",
        "print(z.size())\n",
        "\n",
        "print(z.device)"
      ],
      "metadata": {
        "colab": {
          "base_uri": "https://localhost:8080/"
        },
        "id": "tGGKHSoV-dT6",
        "outputId": "cd718618-3cd2-4db8-89b8-e6d4ee6c09b8"
      },
      "execution_count": 25,
      "outputs": [
        {
          "output_type": "stream",
          "name": "stdout",
          "text": [
            "tensor([[ 8, 10, 12],\n",
            "        [14, 16, 18]])\n",
            "torch.Size([2, 3])\n",
            "cpu\n"
          ]
        }
      ]
    },
    {
      "cell_type": "markdown",
      "source": [
        "Moving tensors between CPUs and GPUs"
      ],
      "metadata": {
        "id": "uUggBY_g_TsC"
      }
    },
    {
      "cell_type": "code",
      "source": [
        "device = \"cuda\" if torch.cuda.is_available() else \"cpu\"\n",
        "\n",
        "x = x.to(device)\n",
        "y = y.to(device)\n",
        "z = x + y\n",
        "z = z.to(\"cpu\")"
      ],
      "metadata": {
        "id": "ZZdCTkn6_FgO"
      },
      "execution_count": 26,
      "outputs": []
    },
    {
      "cell_type": "markdown",
      "source": [
        "Creating tensors"
      ],
      "metadata": {
        "id": "ZugBOqtQ_XMc"
      }
    },
    {
      "source": [
        "#import torch # This is likely already imported in a previous cell\n",
        "#import numpy as np # This is likely already imported in a previous cell\n",
        "\n",
        "w = torch.tensor([1,2,3])\n",
        "w = torch.tensor((1,2,3))\n",
        "w = torch.tensor(np.array([1,2,3]))\n",
        "\n",
        "w = torch.empty(100,200)\n",
        "w = torch.zeros(100,200)\n",
        "w = torch.ones(100,20)\n",
        "\n",
        "# Creates a 100 × 200 tensor with elements from a uniform distribution on the interval [0, 1).\n",
        "w = torch.rand(100,200)\n",
        "# Elements are random numbers from a normal distribution with a mean of 0 and a variance of 1.\n",
        "w = torch.randn(100,200)\n",
        "# Elements are random integers between 5 and 10.\n",
        "w = torch.randint(5,10,(100,200))\n",
        "\n",
        "# Changed device to \"cpu\"\n",
        "w = torch.empty((100,200), dtype=torch.float64, device=\"cpu\")\n",
        "\n",
        "x = torch.empty_like(w)"
      ],
      "cell_type": "code",
      "metadata": {
        "id": "EYEKd2VGBDb_"
      },
      "execution_count": 27,
      "outputs": []
    },
    {
      "cell_type": "markdown",
      "source": [
        "Data types"
      ],
      "metadata": {
        "id": "_7DHW0hXAF1W"
      }
    },
    {
      "cell_type": "code",
      "source": [
        "# Specify the data type at creation using dtype\n",
        "w = torch.tensor([1,2,3], dtype=torch.float32)\n",
        "\n",
        "# Use the casting method to cast to a new data type\n",
        "w.int()       # w remains a float32 after the cast\n",
        "w = w.int()   # w changes to an int32 after the cast\n",
        "\n",
        "# Use the to() method to cast to a new type\n",
        "w = w.to(torch.float64)\n",
        "w = w.to(dtype=torch.float64)\n",
        "\n",
        "# Python automatically converts data types during operations\n",
        "x = torch.tensor([1,2,3], dtype=torch.int32)\n",
        "y = torch.tensor([1,2,3], dtype=torch.float32)\n",
        "z = x + y\n",
        "print(z.dtype)"
      ],
      "metadata": {
        "colab": {
          "base_uri": "https://localhost:8080/"
        },
        "id": "iUW6r4CjAGzM",
        "outputId": "cd540ff1-0bd3-4450-af9f-4b15f477d9ed"
      },
      "execution_count": 28,
      "outputs": [
        {
          "output_type": "stream",
          "name": "stdout",
          "text": [
            "torch.float32\n"
          ]
        }
      ]
    },
    {
      "cell_type": "markdown",
      "source": [
        "Tensor operations"
      ],
      "metadata": {
        "id": "yi6mbNCMAVxK"
      }
    },
    {
      "cell_type": "code",
      "source": [
        "x = torch.tensor([[1,2],[3,4],[5,6],[7,8]])\n",
        "print(x)\n",
        "\n",
        "# Indexing, returns a tensor\n",
        "print(x[1,1])\n",
        "\n",
        "# Indexing, returns a value as a Python number\n",
        "print(x[1,1].item())\n",
        "\n",
        "# Slicing\n",
        "print(x[:2,1])\n",
        "\n",
        "# Boolean indexing\n",
        "# Only keep elements less than 5\n",
        "print(x[x<5])\n",
        "\n",
        "# Transpose array; x.t() or x.T can be used\n",
        "print(x.t())\n",
        "\n",
        "# Change shape; usually view() is preferred over\n",
        "# reshape()\n",
        "print(x.view((2,4)))\n",
        "\n",
        "# Combining tensors\n",
        "y = torch.stack((x, x))\n",
        "print(y)"
      ],
      "metadata": {
        "colab": {
          "base_uri": "https://localhost:8080/"
        },
        "id": "yj7VeWTsAXGj",
        "outputId": "3f4087c1-a692-4ab1-e106-5d5f20123632"
      },
      "execution_count": 29,
      "outputs": [
        {
          "output_type": "stream",
          "name": "stdout",
          "text": [
            "tensor([[1, 2],\n",
            "        [3, 4],\n",
            "        [5, 6],\n",
            "        [7, 8]])\n",
            "tensor(4)\n",
            "4\n",
            "tensor([2, 4])\n",
            "tensor([1, 2, 3, 4])\n",
            "tensor([[1, 3, 5, 7],\n",
            "        [2, 4, 6, 8]])\n",
            "tensor([[1, 2, 3, 4],\n",
            "        [5, 6, 7, 8]])\n",
            "tensor([[[1, 2],\n",
            "         [3, 4],\n",
            "         [5, 6],\n",
            "         [7, 8]],\n",
            "\n",
            "        [[1, 2],\n",
            "         [3, 4],\n",
            "         [5, 6],\n",
            "         [7, 8]]])\n"
          ]
        }
      ]
    },
    {
      "cell_type": "markdown",
      "source": [
        "# Deep learning devlopement"
      ],
      "metadata": {
        "id": "Yj7NIYI1BvB0"
      }
    },
    {
      "cell_type": "markdown",
      "source": [
        "Data loading"
      ],
      "metadata": {
        "id": "rIbFkLbstvwa"
      }
    },
    {
      "cell_type": "code",
      "source": [
        "from torchvision.datasets import CIFAR10\n",
        "\n",
        "train_data = CIFAR10(root=\"./train/\",\n",
        "                     train=True,\n",
        "                     download=True)"
      ],
      "metadata": {
        "id": "33HBZzVzGp4r"
      },
      "execution_count": 30,
      "outputs": []
    },
    {
      "cell_type": "markdown",
      "source": [
        "Data transforms"
      ],
      "metadata": {
        "id": "X8_h6ylguTAA"
      }
    },
    {
      "cell_type": "code",
      "source": [
        "from torchvision import transforms\n",
        "\n",
        "train_transforms = transforms.Compose([\n",
        "  transforms.RandomCrop(32, padding=4),\n",
        "  transforms.RandomHorizontalFlip(),\n",
        "  transforms.ToTensor(),\n",
        "  transforms.Normalize(\n",
        "      mean=(0.4914, 0.4822, 0.4465),\n",
        "      std=(0.2023, 0.1994, 0.2010))])\n",
        "\n",
        "train_data = CIFAR10(root=\"./train/\",\n",
        "                     train=True,\n",
        "                     download=True,\n",
        "                     transform=train_transforms)\n",
        "\n",
        "test_transforms = transforms.Compose([\n",
        "  transforms.ToTensor(),\n",
        "  transforms.Normalize(\n",
        "      (0.4914, 0.4822, 0.4465),\n",
        "      (0.2023, 0.1994, 0.2010))])\n",
        "\n",
        "test_data = torchvision.datasets.CIFAR10(\n",
        "      root=\"./test/\",\n",
        "      train=False,\n",
        "      transform=test_transforms,\n",
        "      # Added download=True to download the test dataset\n",
        "      download=True)"
      ],
      "metadata": {
        "colab": {
          "base_uri": "https://localhost:8080/"
        },
        "id": "pltlo1zJuOi7",
        "outputId": "99574825-ff4f-443d-a47a-e9222641ae9e"
      },
      "execution_count": 31,
      "outputs": [
        {
          "output_type": "stream",
          "name": "stderr",
          "text": [
            "100%|██████████| 170M/170M [00:02<00:00, 71.9MB/s]\n"
          ]
        }
      ]
    },
    {
      "cell_type": "markdown",
      "source": [
        "Data batching\n",
        "\n",
        "Sending data in batches not only allows more efficient training but also takes advantage of the parallel nature of GPUs to accelerate training."
      ],
      "metadata": {
        "id": "PhoKy2EyvmMb"
      }
    },
    {
      "cell_type": "code",
      "source": [
        "trainloader = torch.utils.data.DataLoader(\n",
        "                    train_data,\n",
        "                    batch_size=16,\n",
        "                    shuffle=True)\n",
        "\n",
        "data_batch, labels_batch = next(iter(trainloader))\n",
        "print(data_batch.size())\n",
        "print(labels_batch.size())\n",
        "\n",
        "\n",
        "testloader = torch.utils.data.DataLoader(\n",
        "                    test_data,\n",
        "                    batch_size=16,\n",
        "                    shuffle=False)\n",
        "\n",
        "data_batch, labels_batch = next(iter(testloader))\n",
        "print(data_batch.size())\n",
        "print(labels_batch.size())"
      ],
      "metadata": {
        "colab": {
          "base_uri": "https://localhost:8080/"
        },
        "id": "7MM8Oc5PvuUh",
        "outputId": "566e0965-32c7-4a51-d734-5f41a7bbcde6"
      },
      "execution_count": 32,
      "outputs": [
        {
          "output_type": "stream",
          "name": "stdout",
          "text": [
            "torch.Size([16, 3, 32, 32])\n",
            "torch.Size([16])\n",
            "torch.Size([16, 3, 32, 32])\n",
            "torch.Size([16])\n"
          ]
        }
      ]
    }
  ]
}