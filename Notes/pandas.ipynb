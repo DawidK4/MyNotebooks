{
 "cells": [
  {
   "cell_type": "code",
   "execution_count": null,
   "metadata": {},
   "outputs": [],
   "source": [
    "import pandas as pd\n",
    "import openpyxl\n",
    "import sqlite3"
   ]
  },
  {
   "cell_type": "markdown",
   "metadata": {},
   "source": [
    "Data input and output"
   ]
  },
  {
   "cell_type": "code",
   "execution_count": null,
   "metadata": {},
   "outputs": [],
   "source": [
    "# Reading from a csv file \n",
    "df = pd.read_csv('test.csv')\n",
    "\n",
    "# Writing to a csv file \n",
    "df.to_csv('output.csv', index=False)\n",
    "\n",
    "# Read excel \n",
    "# df_excel = pd.read_excel('file.xlsx')\n",
    "\n",
    "# To excel\n",
    "# df.to_excel('output.xlsx', index=False)\n",
    "\n",
    "# Reading data from a SQL database\n",
    "# conn = sqlite3.connect('database.db')\n",
    "# df_sql = pd.read_sql('SELECT * FROM table_name', conn)\n",
    "# df_sql.head()\n",
    "\n",
    "# Writing a DataFrame to a SQL database\n",
    "# Example of writing a DataFrame to a SQL database.\n",
    "# df.to_sql('table_name', conn, if_exists='replace', index=False)\n"
   ]
  },
  {
   "cell_type": "markdown",
   "metadata": {},
   "source": [
    "Data inspection"
   ]
  },
  {
   "cell_type": "code",
   "execution_count": null,
   "metadata": {},
   "outputs": [],
   "source": [
    "# Returns the first and last few rows of a DataFrame.\n",
    "df.head()\n",
    "df.tail()\n",
    "\n",
    "# Provides a concise summary of a DataFrame.\n",
    "df.info()\n",
    "\n",
    "# Generates descriptive statistics of the DataFrame.\n",
    "df.describe()\n",
    "\n",
    "# Returns a tuple representing the dimensionality of the DataFrame.\n",
    "df.shape\n",
    "\n",
    "# Returns the data types of each column.\n",
    "df.dtypes"
   ]
  },
  {
   "cell_type": "markdown",
   "metadata": {},
   "source": [
    "Data selection"
   ]
  },
  {
   "cell_type": "code",
   "execution_count": 33,
   "metadata": {},
   "outputs": [
    {
     "data": {
      "text/plain": [
       "np.int64(892)"
      ]
     },
     "execution_count": 33,
     "metadata": {},
     "output_type": "execute_result"
    }
   ],
   "source": [
    "# loc[] selects by label, iloc[] selects by index position.\n",
    "df.loc[0, 'Ticket']  # Selects by label\n",
    "df.iloc[0, 0]  # Selects by index position\n",
    "\n",
    "# at[] selects a single value by label, iat[] selects by integer position.\n",
    "df.at[0, 'Ticket']\n",
    "df.iat[0, 0]"
   ]
  },
  {
   "cell_type": "markdown",
   "metadata": {},
   "source": [
    "Data manipulation"
   ]
  },
  {
   "cell_type": "code",
   "execution_count": null,
   "metadata": {},
   "outputs": [],
   "source": [
    "# Removes specified labels from rows or columns.\n",
    "df_dropped = df.drop(columns=['column_name'])\n",
    "\n",
    "# Renames columns or index labels.\n",
    "df_renamed = df.rename(columns={'old_name': 'new_name'})\n",
    "\n",
    "# Sorts the DataFrame by the values along a specific axis.\n",
    "df_sorted = df.sort_values(by='column_name')\n",
    "\n",
    "# Sorts the DataFrame by its index.\n",
    "df_sorted_by_index = df.sort_index()"
   ]
  },
  {
   "cell_type": "markdown",
   "metadata": {},
   "source": [
    "Data cleaning"
   ]
  },
  {
   "cell_type": "code",
   "execution_count": null,
   "metadata": {},
   "outputs": [],
   "source": [
    "# Detects missing values.\n",
    "df.isna()  # Boolean DataFrame indicating missing values\n",
    "df.isnull()  # Equivalent to isna()\n",
    "\n",
    "# Fills missing values with a specified value.\n",
    "df_filled = df.fillna(0)\n",
    "\n",
    "# Drops rows with missing values.\n",
    "df_no_na = df.dropna()"
   ]
  },
  {
   "cell_type": "markdown",
   "metadata": {},
   "source": [
    "Data transformation"
   ]
  },
  {
   "cell_type": "code",
   "execution_count": null,
   "metadata": {},
   "outputs": [],
   "source": [
    "# Applies a function along an axis of the DataFrame.\n",
    "df['Age'] = df['Age'].apply(lambda x: x * 2)\n",
    "\n",
    "# Maps values from a Series according to a dictionary or function.\n",
    "df['new_column'] = df['column_name'].map({'A': 1, 'B': 2})\n",
    "\n",
    "# Replaces specific values with another.\n",
    "df['column_name'] = df['column_name'].replace('old_value', 'new_value')"
   ]
  },
  {
   "cell_type": "markdown",
   "metadata": {},
   "source": [
    "String methods"
   ]
  },
  {
   "cell_type": "code",
   "execution_count": null,
   "metadata": {},
   "outputs": [],
   "source": [
    "# Checks if a substring exists within a string.\n",
    "df[df['column_name'].str.contains('pattern')]\n",
    "\n",
    "# Replaces a substring within a string.\n",
    "df['column_name'] = df['column_name'].str.replace('old', 'new')"
   ]
  },
  {
   "cell_type": "markdown",
   "metadata": {},
   "source": [
    "Date and time"
   ]
  },
  {
   "cell_type": "code",
   "execution_count": null,
   "metadata": {},
   "outputs": [],
   "source": [
    "# Converts a column to datetime.\n",
    "df['date_column'] = pd.to_datetime(df['date_column'])\n",
    "\n",
    "# Generates a range of dates.\n",
    "date_range = pd.date_range(start='2025-01-01', end='2025-02-01')"
   ]
  },
  {
   "cell_type": "markdown",
   "metadata": {},
   "source": [
    "Merging and joining"
   ]
  },
  {
   "cell_type": "code",
   "execution_count": null,
   "metadata": {},
   "outputs": [],
   "source": [
    "df1 = pd.DataFrame()\n",
    "df2 = pd.DataFrame()\n",
    "\n",
    "# Merges two DataFrames.\n",
    "merged_df = pd.merge(df1, df2, on='common_column')\n",
    "\n",
    "# Concatenates DataFrames along a specific axis.\n",
    "concatenated_df = pd.concat([df1, df2], axis=0)"
   ]
  },
  {
   "cell_type": "markdown",
   "metadata": {},
   "source": [
    "Reshaping"
   ]
  },
  {
   "cell_type": "code",
   "execution_count": null,
   "metadata": {},
   "outputs": [],
   "source": [
    "# Unpivots the DataFrame from wide to long format.\n",
    "df_melted = pd.melt(df, id_vars=['id'], value_vars=['column1', 'column2'])\n",
    "\n",
    "# Reshapes data based on index and columns.\n",
    "df_pivoted = df.pivot(index='id', columns='category', values='value')"
   ]
  },
  {
   "cell_type": "markdown",
   "metadata": {},
   "source": [
    "Statistical methods"
   ]
  },
  {
   "cell_type": "code",
   "execution_count": null,
   "metadata": {},
   "outputs": [],
   "source": [
    "# Computes the mean of the values.\n",
    "mean_value = df['column_name'].mean()\n",
    "\n",
    "# Computes the median of the values.\n",
    "median_value = df['column_name'].median()"
   ]
  }
 ],
 "metadata": {
  "kernelspec": {
   "display_name": "Python 3",
   "language": "python",
   "name": "python3"
  },
  "language_info": {
   "codemirror_mode": {
    "name": "ipython",
    "version": 3
   },
   "file_extension": ".py",
   "mimetype": "text/x-python",
   "name": "python",
   "nbconvert_exporter": "python",
   "pygments_lexer": "ipython3",
   "version": "3.12.4"
  }
 },
 "nbformat": 4,
 "nbformat_minor": 2
}
