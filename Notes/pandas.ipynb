{
 "cells": [
  {
   "cell_type": "code",
   "execution_count": 25,
   "metadata": {},
   "outputs": [],
   "source": [
    "import pandas as pd\n",
    "import openpyxl\n",
    "import sqlite3"
   ]
  },
  {
   "cell_type": "markdown",
   "metadata": {},
   "source": [
    "Data input and output"
   ]
  },
  {
   "cell_type": "code",
   "execution_count": 28,
   "metadata": {},
   "outputs": [
    {
     "data": {
      "text/plain": [
       "418"
      ]
     },
     "execution_count": 28,
     "metadata": {},
     "output_type": "execute_result"
    }
   ],
   "source": [
    "# Reading from a csv file \n",
    "df = pd.read_csv('test.csv')\n",
    "\n",
    "# Writing to a csv file \n",
    "df.to_csv('output.csv', index=False)\n",
    "\n",
    "# Read excel \n",
    "# df_excel = pd.read_excel('file.xlsx')\n",
    "\n",
    "# To excel\n",
    "# df.to_excel('output.xlsx', index=False)\n",
    "\n",
    "# Reading data from a SQL database\n",
    "# conn = sqlite3.connect('database.db')\n",
    "# df_sql = pd.read_sql('SELECT * FROM table_name', conn)\n",
    "# df_sql.head()\n",
    "\n",
    "# Writing a DataFrame to a SQL database\n",
    "# Example of writing a DataFrame to a SQL database.\n",
    "df.to_sql('table_name', conn, if_exists='replace', index=False)\n"
   ]
  },
  {
   "cell_type": "markdown",
   "metadata": {},
   "source": [
    "Data inspection"
   ]
  },
  {
   "cell_type": "code",
   "execution_count": null,
   "metadata": {},
   "outputs": [],
   "source": [
    "# Returns the first and last few rows of a DataFrame.\n",
    "df.head()\n",
    "df.tail()\n",
    "\n",
    "# Provides a concise summary of a DataFrame.\n",
    "df.info()\n"
   ]
  }
 ],
 "metadata": {
  "kernelspec": {
   "display_name": "Python 3",
   "language": "python",
   "name": "python3"
  },
  "language_info": {
   "codemirror_mode": {
    "name": "ipython",
    "version": 3
   },
   "file_extension": ".py",
   "mimetype": "text/x-python",
   "name": "python",
   "nbconvert_exporter": "python",
   "pygments_lexer": "ipython3",
   "version": "3.12.4"
  }
 },
 "nbformat": 4,
 "nbformat_minor": 2
}
