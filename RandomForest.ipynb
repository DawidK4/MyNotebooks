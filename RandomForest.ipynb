{
  "nbformat": 4,
  "nbformat_minor": 0,
  "metadata": {
    "colab": {
      "provenance": [],
      "gpuType": "V28",
      "authorship_tag": "ABX9TyOcPQH4/SLxMo1I5GMJdEIV",
      "include_colab_link": true
    },
    "kernelspec": {
      "name": "python3",
      "display_name": "Python 3"
    },
    "language_info": {
      "name": "python"
    },
    "accelerator": "TPU"
  },
  "cells": [
    {
      "cell_type": "markdown",
      "metadata": {
        "id": "view-in-github",
        "colab_type": "text"
      },
      "source": [
        "<a href=\"https://colab.research.google.com/github/DawidK4/MyNotebooks/blob/main/RandomForest.ipynb\" target=\"_parent\"><img src=\"https://colab.research.google.com/assets/colab-badge.svg\" alt=\"Open In Colab\"/></a>"
      ]
    },
    {
      "cell_type": "code",
      "source": [
        "from google.colab import drive\n",
        "drive.mount('/content/drive')\n",
        "import pandas as pd\n",
        "path = '/content/drive/MyDrive/'\n",
        "\n",
        "df_train = pd.read_csv(path + 'mnist_train.csv', header=None)\n",
        "df_test = pd.read_csv(path + 'mnist_test.csv', header=None)\n",
        "\n",
        "df_train.shape"
      ],
      "metadata": {
        "id": "gg1ELCmXEIbp",
        "colab": {
          "base_uri": "https://localhost:8080/",
          "height": 356
        },
        "outputId": "07434e1c-3d76-440e-fb53-4d5307cbd610"
      },
      "execution_count": null,
      "outputs": [
        {
          "output_type": "error",
          "ename": "MessageError",
          "evalue": "Error: credential propagation was unsuccessful",
          "traceback": [
            "\u001b[0;31m---------------------------------------------------------------------------\u001b[0m",
            "\u001b[0;31mMessageError\u001b[0m                              Traceback (most recent call last)",
            "\u001b[0;32m<ipython-input-1-7776ec245941>\u001b[0m in \u001b[0;36m<cell line: 2>\u001b[0;34m()\u001b[0m\n\u001b[1;32m      1\u001b[0m \u001b[0;32mfrom\u001b[0m \u001b[0mgoogle\u001b[0m\u001b[0;34m.\u001b[0m\u001b[0mcolab\u001b[0m \u001b[0;32mimport\u001b[0m \u001b[0mdrive\u001b[0m\u001b[0;34m\u001b[0m\u001b[0;34m\u001b[0m\u001b[0m\n\u001b[0;32m----> 2\u001b[0;31m \u001b[0mdrive\u001b[0m\u001b[0;34m.\u001b[0m\u001b[0mmount\u001b[0m\u001b[0;34m(\u001b[0m\u001b[0;34m'/content/drive'\u001b[0m\u001b[0;34m)\u001b[0m\u001b[0;34m\u001b[0m\u001b[0;34m\u001b[0m\u001b[0m\n\u001b[0m\u001b[1;32m      3\u001b[0m \u001b[0;32mimport\u001b[0m \u001b[0mpandas\u001b[0m \u001b[0;32mas\u001b[0m \u001b[0mpd\u001b[0m\u001b[0;34m\u001b[0m\u001b[0;34m\u001b[0m\u001b[0m\n\u001b[1;32m      4\u001b[0m \u001b[0mpath\u001b[0m \u001b[0;34m=\u001b[0m \u001b[0;34m'/content/drive/MyDrive/'\u001b[0m\u001b[0;34m\u001b[0m\u001b[0;34m\u001b[0m\u001b[0m\n\u001b[1;32m      5\u001b[0m \u001b[0;34m\u001b[0m\u001b[0m\n",
            "\u001b[0;32m/usr/local/lib/python3.10/dist-packages/google/colab/drive.py\u001b[0m in \u001b[0;36mmount\u001b[0;34m(mountpoint, force_remount, timeout_ms, readonly)\u001b[0m\n\u001b[1;32m     98\u001b[0m \u001b[0;32mdef\u001b[0m \u001b[0mmount\u001b[0m\u001b[0;34m(\u001b[0m\u001b[0mmountpoint\u001b[0m\u001b[0;34m,\u001b[0m \u001b[0mforce_remount\u001b[0m\u001b[0;34m=\u001b[0m\u001b[0;32mFalse\u001b[0m\u001b[0;34m,\u001b[0m \u001b[0mtimeout_ms\u001b[0m\u001b[0;34m=\u001b[0m\u001b[0;36m120000\u001b[0m\u001b[0;34m,\u001b[0m \u001b[0mreadonly\u001b[0m\u001b[0;34m=\u001b[0m\u001b[0;32mFalse\u001b[0m\u001b[0;34m)\u001b[0m\u001b[0;34m:\u001b[0m\u001b[0;34m\u001b[0m\u001b[0;34m\u001b[0m\u001b[0m\n\u001b[1;32m     99\u001b[0m   \u001b[0;34m\"\"\"Mount your Google Drive at the specified mountpoint path.\"\"\"\u001b[0m\u001b[0;34m\u001b[0m\u001b[0;34m\u001b[0m\u001b[0m\n\u001b[0;32m--> 100\u001b[0;31m   return _mount(\n\u001b[0m\u001b[1;32m    101\u001b[0m       \u001b[0mmountpoint\u001b[0m\u001b[0;34m,\u001b[0m\u001b[0;34m\u001b[0m\u001b[0;34m\u001b[0m\u001b[0m\n\u001b[1;32m    102\u001b[0m       \u001b[0mforce_remount\u001b[0m\u001b[0;34m=\u001b[0m\u001b[0mforce_remount\u001b[0m\u001b[0;34m,\u001b[0m\u001b[0;34m\u001b[0m\u001b[0;34m\u001b[0m\u001b[0m\n",
            "\u001b[0;32m/usr/local/lib/python3.10/dist-packages/google/colab/drive.py\u001b[0m in \u001b[0;36m_mount\u001b[0;34m(mountpoint, force_remount, timeout_ms, ephemeral, readonly)\u001b[0m\n\u001b[1;32m    135\u001b[0m   )\n\u001b[1;32m    136\u001b[0m   \u001b[0;32mif\u001b[0m \u001b[0mephemeral\u001b[0m\u001b[0;34m:\u001b[0m\u001b[0;34m\u001b[0m\u001b[0;34m\u001b[0m\u001b[0m\n\u001b[0;32m--> 137\u001b[0;31m     _message.blocking_request(\n\u001b[0m\u001b[1;32m    138\u001b[0m         \u001b[0;34m'request_auth'\u001b[0m\u001b[0;34m,\u001b[0m\u001b[0;34m\u001b[0m\u001b[0;34m\u001b[0m\u001b[0m\n\u001b[1;32m    139\u001b[0m         \u001b[0mrequest\u001b[0m\u001b[0;34m=\u001b[0m\u001b[0;34m{\u001b[0m\u001b[0;34m'authType'\u001b[0m\u001b[0;34m:\u001b[0m \u001b[0;34m'dfs_ephemeral'\u001b[0m\u001b[0;34m}\u001b[0m\u001b[0;34m,\u001b[0m\u001b[0;34m\u001b[0m\u001b[0;34m\u001b[0m\u001b[0m\n",
            "\u001b[0;32m/usr/local/lib/python3.10/dist-packages/google/colab/_message.py\u001b[0m in \u001b[0;36mblocking_request\u001b[0;34m(request_type, request, timeout_sec, parent)\u001b[0m\n\u001b[1;32m    174\u001b[0m       \u001b[0mrequest_type\u001b[0m\u001b[0;34m,\u001b[0m \u001b[0mrequest\u001b[0m\u001b[0;34m,\u001b[0m \u001b[0mparent\u001b[0m\u001b[0;34m=\u001b[0m\u001b[0mparent\u001b[0m\u001b[0;34m,\u001b[0m \u001b[0mexpect_reply\u001b[0m\u001b[0;34m=\u001b[0m\u001b[0;32mTrue\u001b[0m\u001b[0;34m\u001b[0m\u001b[0;34m\u001b[0m\u001b[0m\n\u001b[1;32m    175\u001b[0m   )\n\u001b[0;32m--> 176\u001b[0;31m   \u001b[0;32mreturn\u001b[0m \u001b[0mread_reply_from_input\u001b[0m\u001b[0;34m(\u001b[0m\u001b[0mrequest_id\u001b[0m\u001b[0;34m,\u001b[0m \u001b[0mtimeout_sec\u001b[0m\u001b[0;34m)\u001b[0m\u001b[0;34m\u001b[0m\u001b[0;34m\u001b[0m\u001b[0m\n\u001b[0m",
            "\u001b[0;32m/usr/local/lib/python3.10/dist-packages/google/colab/_message.py\u001b[0m in \u001b[0;36mread_reply_from_input\u001b[0;34m(message_id, timeout_sec)\u001b[0m\n\u001b[1;32m    101\u001b[0m     ):\n\u001b[1;32m    102\u001b[0m       \u001b[0;32mif\u001b[0m \u001b[0;34m'error'\u001b[0m \u001b[0;32min\u001b[0m \u001b[0mreply\u001b[0m\u001b[0;34m:\u001b[0m\u001b[0;34m\u001b[0m\u001b[0;34m\u001b[0m\u001b[0m\n\u001b[0;32m--> 103\u001b[0;31m         \u001b[0;32mraise\u001b[0m \u001b[0mMessageError\u001b[0m\u001b[0;34m(\u001b[0m\u001b[0mreply\u001b[0m\u001b[0;34m[\u001b[0m\u001b[0;34m'error'\u001b[0m\u001b[0;34m]\u001b[0m\u001b[0;34m)\u001b[0m\u001b[0;34m\u001b[0m\u001b[0;34m\u001b[0m\u001b[0m\n\u001b[0m\u001b[1;32m    104\u001b[0m       \u001b[0;32mreturn\u001b[0m \u001b[0mreply\u001b[0m\u001b[0;34m.\u001b[0m\u001b[0mget\u001b[0m\u001b[0;34m(\u001b[0m\u001b[0;34m'data'\u001b[0m\u001b[0;34m,\u001b[0m \u001b[0;32mNone\u001b[0m\u001b[0;34m)\u001b[0m\u001b[0;34m\u001b[0m\u001b[0;34m\u001b[0m\u001b[0m\n\u001b[1;32m    105\u001b[0m \u001b[0;34m\u001b[0m\u001b[0m\n",
            "\u001b[0;31mMessageError\u001b[0m: Error: credential propagation was unsuccessful"
          ]
        }
      ]
    },
    {
      "cell_type": "code",
      "source": [
        "column_names = ['class'] + [f'pixel{i}' for i in range(1, 785)]\n",
        "\n",
        "df_train.columns = column_names\n",
        "df_test.columns = column_names\n",
        "\n",
        "df_train.head()"
      ],
      "metadata": {
        "id": "4WN18BNPD9rY",
        "colab": {
          "base_uri": "https://localhost:8080/",
          "height": 256
        },
        "outputId": "2243d881-3e35-4fa0-b092-afd8cf539010"
      },
      "execution_count": null,
      "outputs": [
        {
          "output_type": "execute_result",
          "data": {
            "text/plain": [
              "   class  pixel1  pixel2  pixel3  pixel4  pixel5  pixel6  pixel7  pixel8  \\\n",
              "0      0       0       0       0       0       0       0       0       0   \n",
              "1      4       0       0       0       0       0       0       0       0   \n",
              "2      1       0       0       0       0       0       0       0       0   \n",
              "3      9       0       0       0       0       0       0       0       0   \n",
              "4      2       0       0       0       0       0       0       0       0   \n",
              "\n",
              "   pixel9  ...  pixel775  pixel776  pixel777  pixel778  pixel779  pixel780  \\\n",
              "0       0  ...         0         0         0         0         0         0   \n",
              "1       0  ...         0         0         0         0         0         0   \n",
              "2       0  ...         0         0         0         0         0         0   \n",
              "3       0  ...         0         0         0         0         0         0   \n",
              "4       0  ...         0         0         0         0         0         0   \n",
              "\n",
              "   pixel781  pixel782  pixel783  pixel784  \n",
              "0         0         0         0         0  \n",
              "1         0         0         0         0  \n",
              "2         0         0         0         0  \n",
              "3         0         0         0         0  \n",
              "4         0         0         0         0  \n",
              "\n",
              "[5 rows x 785 columns]"
            ],
            "text/html": [
              "\n",
              "  <div id=\"df-6843ec52-c8ef-48ed-b263-f2c38bcfdef0\" class=\"colab-df-container\">\n",
              "    <div>\n",
              "<style scoped>\n",
              "    .dataframe tbody tr th:only-of-type {\n",
              "        vertical-align: middle;\n",
              "    }\n",
              "\n",
              "    .dataframe tbody tr th {\n",
              "        vertical-align: top;\n",
              "    }\n",
              "\n",
              "    .dataframe thead th {\n",
              "        text-align: right;\n",
              "    }\n",
              "</style>\n",
              "<table border=\"1\" class=\"dataframe\">\n",
              "  <thead>\n",
              "    <tr style=\"text-align: right;\">\n",
              "      <th></th>\n",
              "      <th>class</th>\n",
              "      <th>pixel1</th>\n",
              "      <th>pixel2</th>\n",
              "      <th>pixel3</th>\n",
              "      <th>pixel4</th>\n",
              "      <th>pixel5</th>\n",
              "      <th>pixel6</th>\n",
              "      <th>pixel7</th>\n",
              "      <th>pixel8</th>\n",
              "      <th>pixel9</th>\n",
              "      <th>...</th>\n",
              "      <th>pixel775</th>\n",
              "      <th>pixel776</th>\n",
              "      <th>pixel777</th>\n",
              "      <th>pixel778</th>\n",
              "      <th>pixel779</th>\n",
              "      <th>pixel780</th>\n",
              "      <th>pixel781</th>\n",
              "      <th>pixel782</th>\n",
              "      <th>pixel783</th>\n",
              "      <th>pixel784</th>\n",
              "    </tr>\n",
              "  </thead>\n",
              "  <tbody>\n",
              "    <tr>\n",
              "      <th>0</th>\n",
              "      <td>0</td>\n",
              "      <td>0</td>\n",
              "      <td>0</td>\n",
              "      <td>0</td>\n",
              "      <td>0</td>\n",
              "      <td>0</td>\n",
              "      <td>0</td>\n",
              "      <td>0</td>\n",
              "      <td>0</td>\n",
              "      <td>0</td>\n",
              "      <td>...</td>\n",
              "      <td>0</td>\n",
              "      <td>0</td>\n",
              "      <td>0</td>\n",
              "      <td>0</td>\n",
              "      <td>0</td>\n",
              "      <td>0</td>\n",
              "      <td>0</td>\n",
              "      <td>0</td>\n",
              "      <td>0</td>\n",
              "      <td>0</td>\n",
              "    </tr>\n",
              "    <tr>\n",
              "      <th>1</th>\n",
              "      <td>4</td>\n",
              "      <td>0</td>\n",
              "      <td>0</td>\n",
              "      <td>0</td>\n",
              "      <td>0</td>\n",
              "      <td>0</td>\n",
              "      <td>0</td>\n",
              "      <td>0</td>\n",
              "      <td>0</td>\n",
              "      <td>0</td>\n",
              "      <td>...</td>\n",
              "      <td>0</td>\n",
              "      <td>0</td>\n",
              "      <td>0</td>\n",
              "      <td>0</td>\n",
              "      <td>0</td>\n",
              "      <td>0</td>\n",
              "      <td>0</td>\n",
              "      <td>0</td>\n",
              "      <td>0</td>\n",
              "      <td>0</td>\n",
              "    </tr>\n",
              "    <tr>\n",
              "      <th>2</th>\n",
              "      <td>1</td>\n",
              "      <td>0</td>\n",
              "      <td>0</td>\n",
              "      <td>0</td>\n",
              "      <td>0</td>\n",
              "      <td>0</td>\n",
              "      <td>0</td>\n",
              "      <td>0</td>\n",
              "      <td>0</td>\n",
              "      <td>0</td>\n",
              "      <td>...</td>\n",
              "      <td>0</td>\n",
              "      <td>0</td>\n",
              "      <td>0</td>\n",
              "      <td>0</td>\n",
              "      <td>0</td>\n",
              "      <td>0</td>\n",
              "      <td>0</td>\n",
              "      <td>0</td>\n",
              "      <td>0</td>\n",
              "      <td>0</td>\n",
              "    </tr>\n",
              "    <tr>\n",
              "      <th>3</th>\n",
              "      <td>9</td>\n",
              "      <td>0</td>\n",
              "      <td>0</td>\n",
              "      <td>0</td>\n",
              "      <td>0</td>\n",
              "      <td>0</td>\n",
              "      <td>0</td>\n",
              "      <td>0</td>\n",
              "      <td>0</td>\n",
              "      <td>0</td>\n",
              "      <td>...</td>\n",
              "      <td>0</td>\n",
              "      <td>0</td>\n",
              "      <td>0</td>\n",
              "      <td>0</td>\n",
              "      <td>0</td>\n",
              "      <td>0</td>\n",
              "      <td>0</td>\n",
              "      <td>0</td>\n",
              "      <td>0</td>\n",
              "      <td>0</td>\n",
              "    </tr>\n",
              "    <tr>\n",
              "      <th>4</th>\n",
              "      <td>2</td>\n",
              "      <td>0</td>\n",
              "      <td>0</td>\n",
              "      <td>0</td>\n",
              "      <td>0</td>\n",
              "      <td>0</td>\n",
              "      <td>0</td>\n",
              "      <td>0</td>\n",
              "      <td>0</td>\n",
              "      <td>0</td>\n",
              "      <td>...</td>\n",
              "      <td>0</td>\n",
              "      <td>0</td>\n",
              "      <td>0</td>\n",
              "      <td>0</td>\n",
              "      <td>0</td>\n",
              "      <td>0</td>\n",
              "      <td>0</td>\n",
              "      <td>0</td>\n",
              "      <td>0</td>\n",
              "      <td>0</td>\n",
              "    </tr>\n",
              "  </tbody>\n",
              "</table>\n",
              "<p>5 rows × 785 columns</p>\n",
              "</div>\n",
              "    <div class=\"colab-df-buttons\">\n",
              "\n",
              "  <div class=\"colab-df-container\">\n",
              "    <button class=\"colab-df-convert\" onclick=\"convertToInteractive('df-6843ec52-c8ef-48ed-b263-f2c38bcfdef0')\"\n",
              "            title=\"Convert this dataframe to an interactive table.\"\n",
              "            style=\"display:none;\">\n",
              "\n",
              "  <svg xmlns=\"http://www.w3.org/2000/svg\" height=\"24px\" viewBox=\"0 -960 960 960\">\n",
              "    <path d=\"M120-120v-720h720v720H120Zm60-500h600v-160H180v160Zm220 220h160v-160H400v160Zm0 220h160v-160H400v160ZM180-400h160v-160H180v160Zm440 0h160v-160H620v160ZM180-180h160v-160H180v160Zm440 0h160v-160H620v160Z\"/>\n",
              "  </svg>\n",
              "    </button>\n",
              "\n",
              "  <style>\n",
              "    .colab-df-container {\n",
              "      display:flex;\n",
              "      gap: 12px;\n",
              "    }\n",
              "\n",
              "    .colab-df-convert {\n",
              "      background-color: #E8F0FE;\n",
              "      border: none;\n",
              "      border-radius: 50%;\n",
              "      cursor: pointer;\n",
              "      display: none;\n",
              "      fill: #1967D2;\n",
              "      height: 32px;\n",
              "      padding: 0 0 0 0;\n",
              "      width: 32px;\n",
              "    }\n",
              "\n",
              "    .colab-df-convert:hover {\n",
              "      background-color: #E2EBFA;\n",
              "      box-shadow: 0px 1px 2px rgba(60, 64, 67, 0.3), 0px 1px 3px 1px rgba(60, 64, 67, 0.15);\n",
              "      fill: #174EA6;\n",
              "    }\n",
              "\n",
              "    .colab-df-buttons div {\n",
              "      margin-bottom: 4px;\n",
              "    }\n",
              "\n",
              "    [theme=dark] .colab-df-convert {\n",
              "      background-color: #3B4455;\n",
              "      fill: #D2E3FC;\n",
              "    }\n",
              "\n",
              "    [theme=dark] .colab-df-convert:hover {\n",
              "      background-color: #434B5C;\n",
              "      box-shadow: 0px 1px 3px 1px rgba(0, 0, 0, 0.15);\n",
              "      filter: drop-shadow(0px 1px 2px rgba(0, 0, 0, 0.3));\n",
              "      fill: #FFFFFF;\n",
              "    }\n",
              "  </style>\n",
              "\n",
              "    <script>\n",
              "      const buttonEl =\n",
              "        document.querySelector('#df-6843ec52-c8ef-48ed-b263-f2c38bcfdef0 button.colab-df-convert');\n",
              "      buttonEl.style.display =\n",
              "        google.colab.kernel.accessAllowed ? 'block' : 'none';\n",
              "\n",
              "      async function convertToInteractive(key) {\n",
              "        const element = document.querySelector('#df-6843ec52-c8ef-48ed-b263-f2c38bcfdef0');\n",
              "        const dataTable =\n",
              "          await google.colab.kernel.invokeFunction('convertToInteractive',\n",
              "                                                    [key], {});\n",
              "        if (!dataTable) return;\n",
              "\n",
              "        const docLinkHtml = 'Like what you see? Visit the ' +\n",
              "          '<a target=\"_blank\" href=https://colab.research.google.com/notebooks/data_table.ipynb>data table notebook</a>'\n",
              "          + ' to learn more about interactive tables.';\n",
              "        element.innerHTML = '';\n",
              "        dataTable['output_type'] = 'display_data';\n",
              "        await google.colab.output.renderOutput(dataTable, element);\n",
              "        const docLink = document.createElement('div');\n",
              "        docLink.innerHTML = docLinkHtml;\n",
              "        element.appendChild(docLink);\n",
              "      }\n",
              "    </script>\n",
              "  </div>\n",
              "\n",
              "\n",
              "<div id=\"df-7bb4aeb1-a6d4-43a6-8910-bf17c0203b26\">\n",
              "  <button class=\"colab-df-quickchart\" onclick=\"quickchart('df-7bb4aeb1-a6d4-43a6-8910-bf17c0203b26')\"\n",
              "            title=\"Suggest charts\"\n",
              "            style=\"display:none;\">\n",
              "\n",
              "<svg xmlns=\"http://www.w3.org/2000/svg\" height=\"24px\"viewBox=\"0 0 24 24\"\n",
              "     width=\"24px\">\n",
              "    <g>\n",
              "        <path d=\"M19 3H5c-1.1 0-2 .9-2 2v14c0 1.1.9 2 2 2h14c1.1 0 2-.9 2-2V5c0-1.1-.9-2-2-2zM9 17H7v-7h2v7zm4 0h-2V7h2v10zm4 0h-2v-4h2v4z\"/>\n",
              "    </g>\n",
              "</svg>\n",
              "  </button>\n",
              "\n",
              "<style>\n",
              "  .colab-df-quickchart {\n",
              "      --bg-color: #E8F0FE;\n",
              "      --fill-color: #1967D2;\n",
              "      --hover-bg-color: #E2EBFA;\n",
              "      --hover-fill-color: #174EA6;\n",
              "      --disabled-fill-color: #AAA;\n",
              "      --disabled-bg-color: #DDD;\n",
              "  }\n",
              "\n",
              "  [theme=dark] .colab-df-quickchart {\n",
              "      --bg-color: #3B4455;\n",
              "      --fill-color: #D2E3FC;\n",
              "      --hover-bg-color: #434B5C;\n",
              "      --hover-fill-color: #FFFFFF;\n",
              "      --disabled-bg-color: #3B4455;\n",
              "      --disabled-fill-color: #666;\n",
              "  }\n",
              "\n",
              "  .colab-df-quickchart {\n",
              "    background-color: var(--bg-color);\n",
              "    border: none;\n",
              "    border-radius: 50%;\n",
              "    cursor: pointer;\n",
              "    display: none;\n",
              "    fill: var(--fill-color);\n",
              "    height: 32px;\n",
              "    padding: 0;\n",
              "    width: 32px;\n",
              "  }\n",
              "\n",
              "  .colab-df-quickchart:hover {\n",
              "    background-color: var(--hover-bg-color);\n",
              "    box-shadow: 0 1px 2px rgba(60, 64, 67, 0.3), 0 1px 3px 1px rgba(60, 64, 67, 0.15);\n",
              "    fill: var(--button-hover-fill-color);\n",
              "  }\n",
              "\n",
              "  .colab-df-quickchart-complete:disabled,\n",
              "  .colab-df-quickchart-complete:disabled:hover {\n",
              "    background-color: var(--disabled-bg-color);\n",
              "    fill: var(--disabled-fill-color);\n",
              "    box-shadow: none;\n",
              "  }\n",
              "\n",
              "  .colab-df-spinner {\n",
              "    border: 2px solid var(--fill-color);\n",
              "    border-color: transparent;\n",
              "    border-bottom-color: var(--fill-color);\n",
              "    animation:\n",
              "      spin 1s steps(1) infinite;\n",
              "  }\n",
              "\n",
              "  @keyframes spin {\n",
              "    0% {\n",
              "      border-color: transparent;\n",
              "      border-bottom-color: var(--fill-color);\n",
              "      border-left-color: var(--fill-color);\n",
              "    }\n",
              "    20% {\n",
              "      border-color: transparent;\n",
              "      border-left-color: var(--fill-color);\n",
              "      border-top-color: var(--fill-color);\n",
              "    }\n",
              "    30% {\n",
              "      border-color: transparent;\n",
              "      border-left-color: var(--fill-color);\n",
              "      border-top-color: var(--fill-color);\n",
              "      border-right-color: var(--fill-color);\n",
              "    }\n",
              "    40% {\n",
              "      border-color: transparent;\n",
              "      border-right-color: var(--fill-color);\n",
              "      border-top-color: var(--fill-color);\n",
              "    }\n",
              "    60% {\n",
              "      border-color: transparent;\n",
              "      border-right-color: var(--fill-color);\n",
              "    }\n",
              "    80% {\n",
              "      border-color: transparent;\n",
              "      border-right-color: var(--fill-color);\n",
              "      border-bottom-color: var(--fill-color);\n",
              "    }\n",
              "    90% {\n",
              "      border-color: transparent;\n",
              "      border-bottom-color: var(--fill-color);\n",
              "    }\n",
              "  }\n",
              "</style>\n",
              "\n",
              "  <script>\n",
              "    async function quickchart(key) {\n",
              "      const quickchartButtonEl =\n",
              "        document.querySelector('#' + key + ' button');\n",
              "      quickchartButtonEl.disabled = true;  // To prevent multiple clicks.\n",
              "      quickchartButtonEl.classList.add('colab-df-spinner');\n",
              "      try {\n",
              "        const charts = await google.colab.kernel.invokeFunction(\n",
              "            'suggestCharts', [key], {});\n",
              "      } catch (error) {\n",
              "        console.error('Error during call to suggestCharts:', error);\n",
              "      }\n",
              "      quickchartButtonEl.classList.remove('colab-df-spinner');\n",
              "      quickchartButtonEl.classList.add('colab-df-quickchart-complete');\n",
              "    }\n",
              "    (() => {\n",
              "      let quickchartButtonEl =\n",
              "        document.querySelector('#df-7bb4aeb1-a6d4-43a6-8910-bf17c0203b26 button');\n",
              "      quickchartButtonEl.style.display =\n",
              "        google.colab.kernel.accessAllowed ? 'block' : 'none';\n",
              "    })();\n",
              "  </script>\n",
              "</div>\n",
              "\n",
              "    </div>\n",
              "  </div>\n"
            ],
            "application/vnd.google.colaboratory.intrinsic+json": {
              "type": "dataframe",
              "variable_name": "df_train"
            }
          },
          "metadata": {},
          "execution_count": 11
        }
      ]
    },
    {
      "cell_type": "code",
      "source": [
        "X_train = df_train.iloc[:,1:785]\n",
        "y_train = df_train.iloc[:,0]\n",
        "X_test = df_test.iloc[:,1:785]\n",
        "y_test = df_test.iloc[:,0]\n",
        "\n",
        "print(X_train.shape)\n",
        "print(X_test.shape)"
      ],
      "metadata": {
        "id": "uO_FEjB3GdBB",
        "colab": {
          "base_uri": "https://localhost:8080/"
        },
        "outputId": "2e840d92-c721-4654-b617-2cb65b90392c"
      },
      "execution_count": null,
      "outputs": [
        {
          "output_type": "stream",
          "name": "stdout",
          "text": [
            "(59999, 784)\n",
            "(9999, 784)\n"
          ]
        }
      ]
    },
    {
      "source": [
        "import matplotlib.pyplot as plt\n",
        "\n",
        "# Get the value counts for each category in the training set\n",
        "category_counts = df_train['class'].value_counts().sort_index()\n",
        "\n",
        "# Create a bar plot\n",
        "plt.figure(figsize=(10, 6))\n",
        "plt.bar(category_counts.index, category_counts.values)\n",
        "plt.title('Distribution of Categories in MNIST Training Set')\n",
        "plt.xlabel('Category (Digit)')\n",
        "plt.ylabel('Count')\n",
        "plt.xticks(category_counts.index)\n",
        "plt.show()"
      ],
      "cell_type": "code",
      "metadata": {
        "id": "1Ukxz6mDGKxD",
        "colab": {
          "base_uri": "https://localhost:8080/",
          "height": 564
        },
        "outputId": "438883e5-1c0f-4941-d26a-7ca91625983a"
      },
      "execution_count": null,
      "outputs": [
        {
          "output_type": "display_data",
          "data": {
            "text/plain": [
              "<Figure size 1000x600 with 1 Axes>"
            ],
            "image/png": "[encoded data removed]"
          },
          "metadata": {}
        }
      ]
    },
    {
      "cell_type": "markdown",
      "source": [
        "Task 2"
      ],
      "metadata": {
        "id": "oD85RzDsPBcE"
      }
    },
    {
      "cell_type": "code",
      "source": [
        "import matplotlib.pyplot as plt\n",
        "import numpy as np\n",
        "for i in range(8):\n",
        "     # define subplot\n",
        "    plt.subplot(240+1+i)\n",
        "    # plot raw pixel data\n",
        "    ith_image = X_train.iloc[i,:]\n",
        "    ith_image_arr = ith_image.to_numpy()\n",
        "    ith_image= ith_image_arr.reshape(28,28)\n",
        "    plt.imshow(ith_image, cmap=plt.get_cmap('gray'))\n",
        "# show the figure\n",
        "plt.show()"
      ],
      "metadata": {
        "id": "c52pP3QAGNeU",
        "colab": {
          "base_uri": "https://localhost:8080/",
          "height": 373
        },
        "outputId": "8a92319c-b3e8-4133-daf0-e384dd9020ea"
      },
      "execution_count": null,
      "outputs": [
        {
          "output_type": "display_data",
          "data": {
            "text/plain": [
              "<Figure size 640x480 with 8 Axes>"
            ],
            "image/png": "[encoded data removed]"
          },
          "metadata": {}
        }
      ]
    },
    {
      "cell_type": "markdown",
      "source": [
        "Task 3.1"
      ],
      "metadata": {
        "id": "NtxXFiukPDy2"
      }
    },
    {
      "source": [
        "from sklearn.tree import DecisionTreeClassifier\n",
        "from sklearn.model_selection import train_test_split\n",
        "from sklearn.metrics import accuracy_score\n",
        "\n",
        "X = df_train.drop('class', axis=1)\n",
        "y = df_train['class']\n",
        "\n",
        "X_train, X_val, y_train, y_val = train_test_split(X, y, test_size=0.2, random_state=42)\n",
        "\n",
        "classifier = DecisionTreeClassifier()\n",
        "classifier.fit(X_train, y_train)\n",
        "\n",
        "y_pred = classifier.predict(X_val)\n",
        "\n",
        "accuracy = accuracy_score(y_val, y_pred)\n",
        "print(f\"Accuracy on validation set: {accuracy}\")"
      ],
      "cell_type": "code",
      "metadata": {
        "id": "H9N-jeX6Hmfs",
        "colab": {
          "base_uri": "https://localhost:8080/"
        },
        "outputId": "8765a3c5-fded-4637-9509-fda12d9a34f0"
      },
      "execution_count": null,
      "outputs": [
        {
          "output_type": "stream",
          "name": "stdout",
          "text": [
            "Accuracy on validation set: 0.868\n"
          ]
        }
      ]
    },
    {
      "cell_type": "markdown",
      "source": [
        "Task 3.2\n",
        "1. Gini Impurity\n",
        "\n",
        "Focus: Measures the probability of misclassifying a randomly chosen element in the dataset if it were randomly labeled according to the class distribution in the dataset.\n",
        "Goal: To minimize Gini impurity, meaning to create splits that result in the purest possible nodes (nodes containing mostly data points from a single class).\n",
        "Calculation: Calculated as:\n",
        "\n",
        "Gini = 1 - Σ (pi)^2\n",
        "Use code with caution\n",
        "where pi is the proportion of samples belonging to class i in the node.\n",
        "\n",
        "Interpretation: A Gini impurity of 0 means the node is perfectly pure (all samples belong to the same class). Higher values indicate more impurity.\n",
        "\n",
        "2. Entropy\n",
        "\n",
        "Focus: Measures the uncertainty or randomness in the data at a node.\n",
        "Goal: To minimize entropy, which means to create splits that result in the most information gain (reducing the uncertainty about the class labels).\n",
        "Calculation: Calculated as:\n",
        "\n",
        "Entropy = - Σ (pi) * log2(pi)\n",
        "Use code with caution\n",
        "where pi is the proportion of samples belonging to class i in the node.\n",
        "\n",
        "Interpretation: An entropy of 0 means the node is perfectly pure. Higher values indicate more uncertainty.\n",
        "3. Log Loss (Cross-Entropy Loss)\n",
        "\n",
        "Focus: Measures the performance of a classification model where the prediction input is a probability value between 0 and 1.\n",
        "Goal: To minimize log loss, which means to create splits that result in the most accurate probability estimates for each class.\n",
        "Calculation:\n",
        "\n",
        "Log Loss = - (1/N) Σ [yi * log(pi) + (1 - yi) * log(1 - pi)]\n",
        "Use code with caution\n",
        "where N is the number of samples, yi is the true label (0 or 1), and pi is the predicted probability for class 1.\n",
        "\n",
        "Interpretation: Lower log loss values indicate better model performance.\n"
      ],
      "metadata": {
        "id": "zh4KfeG5PHw6"
      }
    },
    {
      "source": [
        "best_accuracy = 0\n",
        "best_params = {}\n",
        "\n",
        "for max_depth in [30]:\n",
        "    for criterion in ['gini', 'entropy', 'log_loss']:\n",
        "        classifier = DecisionTreeClassifier(max_depth=max_depth, criterion=criterion)\n",
        "        classifier.fit(X_train, y_train)\n",
        "\n",
        "        y_pred = classifier.predict(X_val)\n",
        "        accuracy = accuracy_score(y_val, y_pred)\n",
        "\n",
        "        if accuracy > best_accuracy:\n",
        "            best_accuracy = accuracy\n",
        "            best_params = {'max_depth': max_depth, 'criterion': criterion}\n",
        "\n",
        "print(f\"Best accuracy: {best_accuracy}\")\n",
        "print(f\"Best parameters: {best_params}\")"
      ],
      "cell_type": "code",
      "metadata": {
        "id": "kweb9SsUICcO",
        "colab": {
          "base_uri": "https://localhost:8080/"
        },
        "outputId": "087522e4-2b55-4f48-c7ee-7db0f2be581d"
      },
      "execution_count": null,
      "outputs": [
        {
          "output_type": "stream",
          "name": "stdout",
          "text": [
            "Best accuracy: 0.8709166666666667\n",
            "Best parameters: {'max_depth': 30, 'criterion': 'entropy'}\n"
          ]
        }
      ]
    },
    {
      "cell_type": "markdown",
      "source": [
        "Task 4\n",
        "\n",
        "RandomForestClassifier is a model that combines multiple decision trees for improved accuracy. Each tree is trained on a different subset of data and features, and predictions are made by majority voting. This ensemble approach reduces overfitting and makes it robust to outliers.\n",
        "\n",
        "![random.jpg](data:image/jpeg;base64,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)"
      ],
      "metadata": {
        "id": "VlAA3CN7PJbF"
      }
    },
    {
      "source": [
        "from sklearn.ensemble import RandomForestClassifier\n",
        "from sklearn.model_selection import GridSearchCV\n",
        "\n",
        "param_grid = {\n",
        "    'n_estimators': [200],\n",
        "    'max_depth': [30],\n",
        "    'min_samples_split': [10],\n",
        "    'criterion': ['gini', 'entropy', 'log_loss']\n",
        "}\n",
        "\n",
        "rf_classifier = RandomForestClassifier(random_state=42)\n",
        "grid_search = GridSearchCV(estimator=rf_classifier, param_grid=param_grid, cv=5, scoring='accuracy')\n",
        "grid_search.fit(X_train, y_train)\n",
        "\n",
        "best_params = grid_search.best_params_\n",
        "best_score = grid_search.best_score_\n",
        "\n",
        "print(f\"Best parameters: {best_params}\")\n",
        "print(f\"Best accuracy: {best_score}\")\n",
        "\n",
        "best_model = grid_search.best_estimator_\n",
        "y_pred = best_model.predict(X_val)\n",
        "accuracy = accuracy_score(y_val, y_pred)\n",
        "print(f\"Accuracy on validation set: {accuracy}\")"
      ],
      "cell_type": "code",
      "metadata": {
        "id": "aASEaHWxMeX4",
        "colab": {
          "base_uri": "https://localhost:8080/"
        },
        "outputId": "eae7ad5f-fea4-40db-ef69-e8f2cf9a9b67"
      },
      "execution_count": null,
      "outputs": [
        {
          "output_type": "stream",
          "name": "stdout",
          "text": [
            "Best parameters: {'criterion': 'gini', 'max_depth': 30, 'min_samples_split': 10, 'n_estimators': 200}\n",
            "Best accuracy: 0.9641659330833073\n",
            "Accuracy on validation set: 0.9638333333333333\n"
          ]
        }
      ]
    },
    {
      "cell_type": "markdown",
      "source": [
        "Task 5\n",
        "\n",
        "ExtraTreesClassifier is an ensemble model like Random Forest but with more randomness. It randomly chooses split points for features instead of searching for the best split, making it faster and less prone to overfitting. This often results in comparable or even better accuracy than Random Forest."
      ],
      "metadata": {
        "id": "YsBzZhZ4POwA"
      }
    },
    {
      "source": [
        "from sklearn.ensemble import ExtraTreesClassifier\n",
        "\n",
        "param_grid = {\n",
        "    'n_estimators': [200],\n",
        "    'max_depth': [30],\n",
        "    'min_samples_split': [10],\n",
        "    'criterion': ['gini', 'entropy', 'log_loss']\n",
        "}\n",
        "\n",
        "et_classifier = ExtraTreesClassifier(random_state=42)\n",
        "grid_search = GridSearchCV(estimator=et_classifier, param_grid=param_grid, cv=5, scoring='accuracy')\n",
        "grid_search.fit(X_train, y_train)\n",
        "\n",
        "best_params = grid_search.best_params_\n",
        "best_score = grid_search.best_score_\n",
        "\n",
        "print(f\"Best parameters: {best_params}\")\n",
        "print(f\"Best accuracy: {best_score}\")\n",
        "\n",
        "best_model = grid_search.best_estimator_\n",
        "y_pred = best_model.predict(X_val)\n",
        "accuracy = accuracy_score(y_val, y_pred)\n",
        "print(f\"Accuracy on validation set: {accuracy}\")"
      ],
      "cell_type": "code",
      "metadata": {
        "id": "0dNQK29zNCiq",
        "colab": {
          "base_uri": "https://localhost:8080/"
        },
        "outputId": "7fafcb93-228d-4f25-c144-d6c34a613685"
      },
      "execution_count": null,
      "outputs": [
        {
          "output_type": "stream",
          "name": "stdout",
          "text": [
            "Best parameters: {'criterion': 'gini', 'max_depth': 30, 'min_samples_split': 10, 'n_estimators': 200}\n",
            "Best accuracy: 0.965853456957322\n",
            "Accuracy on validation set: 0.9669166666666666\n"
          ]
        }
      ]
    },
    {
      "cell_type": "markdown",
      "source": [
        "Task 6\n",
        "\n",
        "XGBoost (Extreme Gradient Boosting) is a powerful and popular machine learning algorithm known for its high accuracy and efficiency. It's a gradient boosting algorithm, meaning it builds a model by sequentially adding weak learners (typically decision trees) to improve the overall model's performance.\n",
        "\n",
        "Here's a breakdown:\n",
        "\n",
        "Boosting: XGBoost uses a technique called boosting, where it iteratively trains new models to correct the errors made by previous models. Each new model focuses on the data points that were misclassified by the previous models.\n",
        "Gradient Descent: It uses gradient descent optimization to minimize a loss function, which measures the difference between the model's predictions and the actual values. This helps the model learn from its mistakes and gradually improve its accuracy.\n",
        "Regularization: XGBoost includes regularization techniques to prevent overfitting, which means the model performs well on the training data but poorly on unseen data. Regularization helps the model generalize better to new data."
      ],
      "metadata": {
        "id": "NOM8ele6Pc_L"
      }
    },
    {
      "source": [
        "!pip install xgboost\n",
        "import xgboost as xgb\n",
        "\n",
        "param_grid = {\n",
        "    'n_estimators': [300],\n",
        "    'max_depth': [7],\n",
        "    'learning_rate': [0.01],\n",
        "    'subsample': [0.9],\n",
        "    'colsample_bytree': [0.9]\n",
        "}\n",
        "\n",
        "xgb_classifier = xgb.XGBClassifier(objective='multi:softmax', num_class=10, random_state=42)\n",
        "grid_search = GridSearchCV(estimator=xgb_classifier, param_grid=param_grid, cv=5, scoring='accuracy')\n",
        "grid_search.fit(X_train, y_train)\n",
        "\n",
        "best_params = grid_search.best_params_\n",
        "best_score = grid_search.best_score_\n",
        "\n",
        "print(f\"Best parameters: {best_params}\")\n",
        "print(f\"Best accuracy: {best_score}\")\n",
        "\n",
        "best_model = grid_search.best_estimator_\n",
        "y_pred = best_model.predict(X_val)\n",
        "accuracy = accuracy_score(y_val, y_pred)\n",
        "print(f\"Accuracy on validation set: {accuracy}\")"
      ],
      "cell_type": "code",
      "metadata": {
        "id": "KeBfFvKbNWzF",
        "colab": {
          "base_uri": "https://localhost:8080/"
        },
        "outputId": "da9a3112-81e4-4e19-c1d4-b42bbd67c52c"
      },
      "execution_count": null,
      "outputs": [
        {
          "output_type": "stream",
          "name": "stdout",
          "text": [
            "Collecting xgboost\n",
            "  Downloading xgboost-2.1.2-py3-none-manylinux_2_28_x86_64.whl.metadata (2.1 kB)\n",
            "Requirement already satisfied: numpy in /usr/local/lib/python3.10/dist-packages (from xgboost) (1.26.4)\n",
            "Collecting nvidia-nccl-cu12 (from xgboost)\n",
            "  Downloading nvidia_nccl_cu12-2.23.4-py3-none-manylinux2014_x86_64.whl.metadata (1.8 kB)\n",
            "Requirement already satisfied: scipy in /usr/local/lib/python3.10/dist-packages (from xgboost) (1.13.1)\n",
            "Downloading xgboost-2.1.2-py3-none-manylinux_2_28_x86_64.whl (153.9 MB)\n",
            "\u001b[2K   \u001b[90m━━━━━━━━━━━━━━━━━━━━━━━━━━━━━━━━━━━━━━━━\u001b[0m \u001b[32m153.9/153.9 MB\u001b[0m \u001b[31m6.9 MB/s\u001b[0m eta \u001b[36m0:00:00\u001b[0m\n",
            "\u001b[?25hDownloading nvidia_nccl_cu12-2.23.4-py3-none-manylinux2014_x86_64.whl (199.0 MB)\n",
            "\u001b[2K   \u001b[90m━━━━━━━━━━━━━━━━━━━━━━━━━━━━━━━━━━━━━━━━\u001b[0m \u001b[32m199.0/199.0 MB\u001b[0m \u001b[31m5.4 MB/s\u001b[0m eta \u001b[36m0:00:00\u001b[0m\n",
            "\u001b[?25hInstalling collected packages: nvidia-nccl-cu12, xgboost\n",
            "Successfully installed nvidia-nccl-cu12-2.23.4 xgboost-2.1.2\n",
            "Best parameters: {'colsample_bytree': 0.9, 'learning_rate': 0.01, 'max_depth': 7, 'n_estimators': 300, 'subsample': 0.9}\n",
            "Best accuracy: 0.9519156552765912\n",
            "Accuracy on validation set: 0.9514166666666667\n"
          ]
        }
      ]
    },
    {
      "cell_type": "markdown",
      "source": [
        "Task 7\n"
      ],
      "metadata": {
        "id": "ARXJr4-KOo1K"
      }
    },
    {
      "source": [
        "from scipy.ndimage.interpolation import shift\n",
        "\n",
        "def shift_image(image, dx, dy):\n",
        "    image = image.reshape((28, 28))\n",
        "    shifted_image = shift(image, [dy, dx], cval=0, mode=\"constant\")\n",
        "    return shifted_image.reshape([-1])\n",
        "\n",
        "# Create augmented data\n",
        "X_train_augmented = []\n",
        "y_train_augmented = []\n",
        "\n",
        "for i in range(len(X_train)):\n",
        "    image = X_train.iloc[i].values\n",
        "    label = y_train.iloc[i]\n",
        "\n",
        "    X_train_augmented.append(image)  # Original image\n",
        "    y_train_augmented.append(label)\n",
        "\n",
        "    for dx, dy in [(1,0), (-1,0), (0,1), (0,-1)]: # Shift directions\n",
        "        shifted_image = shift_image(image, dx, dy)\n",
        "        X_train_augmented.append(shifted_image)\n",
        "        y_train_augmented.append(label)\n",
        "\n",
        "X_train_augmented = pd.DataFrame(X_train_augmented, columns=X_train.columns)\n",
        "y_train_augmented = pd.Series(y_train_augmented, name='class')"
      ],
      "cell_type": "code",
      "metadata": {
        "id": "xvbKUrVYNp6q",
        "colab": {
          "base_uri": "https://localhost:8080/"
        },
        "outputId": "c65218d7-f2df-4458-9e53-734f4c1417ea"
      },
      "execution_count": null,
      "outputs": [
        {
          "output_type": "stream",
          "name": "stderr",
          "text": [
            "<ipython-input-26-9e358d4d6d8e>:1: DeprecationWarning: Please import `shift` from the `scipy.ndimage` namespace; the `scipy.ndimage.interpolation` namespace is deprecated and will be removed in SciPy 2.0.0.\n",
            "  from scipy.ndimage.interpolation import shift\n"
          ]
        }
      ]
    },
    {
      "cell_type": "markdown",
      "source": [
        "Task 8"
      ],
      "metadata": {
        "id": "kIPPc47MOktO"
      }
    },
    {
      "source": [
        "import time\n",
        "from sklearn.tree import DecisionTreeClassifier\n",
        "from sklearn.ensemble import RandomForestClassifier, ExtraTreesClassifier\n",
        "import xgboost as xgb\n",
        "from sklearn.model_selection import train_test_split\n",
        "from sklearn.metrics import accuracy_score\n",
        "from scipy.ndimage.interpolation import shift\n",
        "\n",
        "def shift_image(image, dx, dy):\n",
        "    image = image.reshape((28, 28))\n",
        "    shifted_image = shift(image, [dy, dx], cval=0, mode=\"constant\")\n",
        "    return shifted_image.reshape([-1])\n",
        "\n",
        "X_train_augmented = []\n",
        "y_train_augmented = []\n",
        "X = df_train.drop('class', axis=1)\n",
        "y = df_train['class']\n",
        "X_train, X_val, y_train, y_val = train_test_split(X, y, test_size=0.2, random_state=42)\n",
        "\n",
        "\n",
        "for i in range(len(X_train)):\n",
        "    image = X_train.iloc[i].values\n",
        "    label = y_train.iloc[i]\n",
        "\n",
        "    X_train_augmented.append(image)\n",
        "    y_train_augmented.append(label)\n",
        "\n",
        "    for dx, dy in [(1, 0), (-1, 0), (0, 1), (0, -1)]:\n",
        "        shifted_image = shift_image(image, dx, dy)\n",
        "        X_train_augmented.append(shifted_image)\n",
        "        y_train_augmented.append(label)\n",
        "\n",
        "X_train_augmented = pd.DataFrame(X_train_augmented, columns=X_train.columns)\n",
        "y_train_augmented = pd.Series(y_train_augmented, name='class')"
      ],
      "cell_type": "code",
      "metadata": {
        "id": "8fOSt63OOYra",
        "colab": {
          "base_uri": "https://localhost:8080/"
        },
        "outputId": "d7b246dd-5dce-4bf7-8742-74bd6182c126"
      },
      "execution_count": null,
      "outputs": [
        {
          "output_type": "stream",
          "name": "stderr",
          "text": [
            "<ipython-input-28-6022c03e69bd>:7: DeprecationWarning: Please import `shift` from the `scipy.ndimage` namespace; the `scipy.ndimage.interpolation` namespace is deprecated and will be removed in SciPy 2.0.0.\n",
            "  from scipy.ndimage.interpolation import shift\n"
          ]
        }
      ]
    },
    {
      "cell_type": "markdown",
      "source": [
        "Task 9"
      ],
      "metadata": {
        "id": "BJPGkfnpOmJJ"
      }
    },
    {
      "cell_type": "code",
      "source": [
        "def train_and_evaluate(model, X_train, y_train, X_val, y_val):\n",
        "    start_time = time.time()\n",
        "    model.fit(X_train, y_train)\n",
        "    end_time = time.time()\n",
        "    training_time = end_time - start_time\n",
        "\n",
        "    y_pred = model.predict(X_val)\n",
        "    accuracy = accuracy_score(y_val, y_pred)\n",
        "\n",
        "    print(f\"Training time: {training_time:.2f} seconds\")\n",
        "    print(f\"Accuracy on validation set: {accuracy}\")\n",
        "\n",
        "models = {\n",
        "    \"Decision Tree\": DecisionTreeClassifier(),\n",
        "    \"Random Forest\": RandomForestClassifier(random_state=42),\n",
        "    \"Extra Trees\": ExtraTreesClassifier(random_state=42),\n",
        "    \"XGBoost\": xgb.XGBClassifier(objective='multi:softmax', num_class=10, random_state=42)\n",
        "}\n",
        "\n",
        "for model_name, model in models.items():\n",
        "    print(f\"\\nTraining {model_name}...\")\n",
        "    train_and_evaluate(model, X_train_augmented, y_train_augmented, X_val, y_val)"
      ],
      "metadata": {
        "id": "4kh6Cpi7OdYO",
        "colab": {
          "base_uri": "https://localhost:8080/"
        },
        "outputId": "84a48205-32a0-44fc-aee7-a40c6b0ba12c"
      },
      "execution_count": null,
      "outputs": [
        {
          "output_type": "stream",
          "name": "stdout",
          "text": [
            "\n",
            "Training Decision Tree...\n",
            "Training time: 88.80 seconds\n",
            "Accuracy on validation set: 0.90875\n",
            "\n",
            "Training Random Forest...\n",
            "Training time: 200.94 seconds\n",
            "Accuracy on validation set: 0.9775833333333334\n",
            "\n",
            "Training Extra Trees...\n",
            "Training time: 175.97 seconds\n",
            "Accuracy on validation set: 0.9788333333333333\n",
            "\n",
            "Training XGBoost...\n",
            "Training time: 174.57 seconds\n",
            "Accuracy on validation set: 0.9825833333333334\n"
          ]
        }
      ]
    },
    {
      "cell_type": "markdown",
      "source": [
        "Wniosek: Augumentacja poprawiła precyzję."
      ],
      "metadata": {
        "id": "ko1yF8b5Pphn"
      }
    }
  ]
}